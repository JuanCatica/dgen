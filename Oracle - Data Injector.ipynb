{
 "cells": [
  {
   "cell_type": "markdown",
   "metadata": {},
   "source": [
    "## Data Injector"
   ]
  },
  {
   "cell_type": "code",
   "execution_count": 1,
   "metadata": {},
   "outputs": [],
   "source": [
    "import cx_Oracle"
   ]
  },
  {
   "cell_type": "code",
   "execution_count": 2,
   "metadata": {},
   "outputs": [
    {
     "name": "stdout",
     "output_type": "stream",
     "text": [
      "0.19763541221618652\n"
     ]
    }
   ],
   "source": [
    "import time\n",
    "s = time.time()\n",
    "connection = cx_Oracle.connect(\n",
    "    user=\"sourceadmin\",\n",
    "    password=\"sourcepassword\",\n",
    "    dsn=\"oracledb-source.czpldjgtmbmx.us-west-2.rds.amazonaws.com/dbsource\")\n",
    "cursor = connection.cursor()\n",
    "connection.close()\n",
    "print(time.time()-s)"
   ]
  },
  {
   "cell_type": "markdown",
   "metadata": {},
   "source": [
    "```sql\n",
    "CREATE TABLE  \"TABLE1\" (\n",
    "    t1_pk CHAR(10) NOT NULL, \n",
    "    tag CHAR(40) NOT NULL, \n",
    "    number NUMBER(10,2) NOT NULL, \n",
    "    var VARCHAR2(17) NOT NULL,\n",
    "    cdc VARCHAR2(25),\n",
    "    CONSTRAINT TABLE1_CONSTRAINT PRIMARY KEY (t1_pk)\n",
    ");\n",
    "\n",
    "CREATE TABLE  \"TABLE2\"(\n",
    "    t2_pk INT NOT NULL, \n",
    "    tag CHAR(40) NOT NULL, \n",
    "    number NUMBER(10,2) NOT NULL, \n",
    "    var VARCHAR2(17) NOT NULL,\n",
    "    cdc VARCHAR2(25),\n",
    "    refrence_t1 CHAR(6),\n",
    "    CONSTRAINT TABLE2_CONSTRAINT FOREIGN KEY (refrence_t1) REFERENCES TABLE1(t1_pk) ON DELETE CASCADE\n",
    ");\n",
    "\n",
    "CREATE TABLE  \"TABLE3\"(\n",
    "    tag CHAR(40) NOT NULL, \n",
    "    number NUMBER(10,2) NOT NULL, \n",
    "    var VARCHAR2(17) NOT NULL,\n",
    "    cdc VARCHAR2(25)\n",
    ");\n",
    "\n",
    "CREATE TABLE  \"CNT\"(\n",
    "    insert_t1 INT, \n",
    "    update_t1 INT,\n",
    "    delete_t1 INT,\n",
    "    block_t1 INT,\n",
    "    insert_t2 INT, \n",
    "    update_t2 INT,\n",
    "    delete_t2 INT,\n",
    "    block_t2 INT,\n",
    "    insert_t3 INT, \n",
    "    update_t3 INT,\n",
    "    delete_t3 INT,\n",
    "    block_t3 INT\n",
    ");\n",
    "```\n"
   ]
  },
  {
   "cell_type": "code",
   "execution_count": 1,
   "metadata": {
    "scrolled": true
   },
   "outputs": [],
   "source": [
    "import time\n",
    "import cx_Oracle\n",
    "from getpass import getpass\n",
    "from tqdm import tqdm\n",
    "import random\n",
    "\n",
    "class DataGen:\n",
    "    \n",
    "    def __init__(self):\n",
    "        self.host = None\n",
    "        self.port = None\n",
    "        self.user = None\n",
    "        self.pasw= None\n",
    "        self.sid = None\n",
    "        self.connection = None\n",
    "        self.cursor = None\n",
    "    \n",
    "    def connect(self, params = None):\n",
    "        if params:\n",
    "            print(\"[connection] Reading ORACLE connection parameters ...\")\n",
    "            self.host = params[\"host\"]\n",
    "            self.port = params[\"port\"]\n",
    "            self.sid  = params[\"sid\"]\n",
    "            self.user = params[\"user\"]\n",
    "            self.pasw = params[\"pass\"]\n",
    "        else:\n",
    "            print(\"[connection] Please define ORACLE connection parameters\")\n",
    "            self.host = self._input(\"host\",1)\n",
    "            self.port = self._input(\"port\",1)\n",
    "            self.sid  = self._input(\"sid\",1)\n",
    "            self.user = self._input(\"user\",1)\n",
    "            self.pasw = self._input(\"pass\",1,True)\n",
    "\n",
    "        self.port = int(self.port)\n",
    "        start = time.time()\n",
    "        self.connection = cx_Oracle.connect(\n",
    "            user=self.user,\n",
    "            password=self.pasw,\n",
    "            dsn=f\"{self.host}/{self.sid}\")\n",
    "        self.cursor = self.connection.cursor()\n",
    "        self.pasw = None\n",
    "        dtime = time.time() - start\n",
    "        print(f\"[connection] Connected: elapsed time {dtime}s\")\n",
    "    \n",
    "    def disconnect(self):\n",
    "        print(\"[connection] Disconnecting ...\")\n",
    "        start = time.time()\n",
    "        self.connection.close()\n",
    "        dtime = time.time() - start\n",
    "        print(f\"[connection] Disconected: elapsed time {dtime}s\")\n",
    "    \n",
    "    def create_tables(self, verbose = False):\n",
    "        print(\"[tables] Creating tables ...\")\n",
    "        start = time.time()\n",
    "        \n",
    "        table1 = \"\"\"CREATE TABLE \"TABLE1\" (\n",
    "            \"t1_pk\" INT NOT NULL, \n",
    "            \"block\" INT NOT NULL, \n",
    "            \"number\" NUMBER(10,2) NOT NULL, \n",
    "            \"var\" VARCHAR2(17) NOT NULL,\n",
    "            \"cdc\" VARCHAR2(25),\n",
    "            CONSTRAINT \"TABLE1_CONSTRAINT\" PRIMARY KEY (\"t1_pk\")\n",
    "        )\"\"\"\n",
    "        table2 = \"\"\"CREATE TABLE \"TABLE2\"(\n",
    "            \"t2_pk\" INT NOT NULL, \n",
    "            \"block\" INT NOT NULL, \n",
    "            \"number\" NUMBER(10,2) NOT NULL, \n",
    "            \"var\" VARCHAR2(17) NOT NULL,\n",
    "            \"cdc\" VARCHAR2(25),\n",
    "            \"refrence_t1\" INT,\n",
    "            CONSTRAINT \"TABLE2_CONSTRAINT\" FOREIGN KEY (\"refrence_t1\") REFERENCES TABLE1(\"t1_pk\") ON DELETE CASCADE\n",
    "        )\"\"\"\n",
    "        table3 = \"\"\"CREATE TABLE \"TABLE3\"(\n",
    "            \"block\" INT NOT NULL, \n",
    "            \"number\" NUMBER(10,2) NOT NULL, \n",
    "            \"var\" VARCHAR2(17) NOT NULL,\n",
    "            \"cdc\" VARCHAR2(25)\n",
    "        )\"\"\"\n",
    "        plsql_config = \"\"\"\n",
    "            begin\n",
    "                rdsadmin.rdsadmin_util.force_logging(p_enable => true);\n",
    "                rdsadmin.rdsadmin_util.alter_supplemental_logging(p_action => 'ADD');\n",
    "                rdsadmin.rdsadmin_util.alter_supplemental_logging(p_action => 'ADD',p_type => 'ALL');\n",
    "                rdsadmin.rdsadmin_util.alter_supplemental_logging(p_action => 'ADD',p_type => 'PRIMARY KEY');\n",
    "                rdsadmin.rdsadmin_util.switch_logfile;\n",
    "                rdsadmin.rdsadmin_master_util.create_archivelog_dir;\n",
    "                rdsadmin.rdsadmin_master_util.create_onlinelog_dir;\n",
    "            end;\n",
    "        \"\"\"\n",
    "        \n",
    "        self.sql(table1, \"tables\", \"TABLE1 created\", \"TABLE1 warning\", verbose)\n",
    "        self.sql(table2, \"tables\", \"TABLE2 created\", \"TABLE2 warning\", verbose)\n",
    "        self.sql(table3, \"tables\", \"TABLE3 created\", \"TABLE3 warning\", verbose)\n",
    "        self.sql(plsql_config, \"table\", \"PL/SQL Executed\", \"PL/SQL warning\", verbose)\n",
    "        self.connection.commit()\n",
    "        \n",
    "        dtime = time.time() - start\n",
    "        print(f\"[tables] Tables created: elapsed time {dtime}s\")\n",
    "    \n",
    "    def drop_tables(self, verbose=False):\n",
    "        print(\"[tables] Dropping tables ...\")\n",
    "        start = time.time()\n",
    "        self.sql(\"DROP TABLE TABLE3\", \"tables\", \"TABLE3 droped\", \"TABLE3 warning\", verbose)\n",
    "        self.sql(\"DROP TABLE TABLE2\", \"tables\", \"TABLE2 droped\", \"TABLE2 warning\", verbose)\n",
    "        self.sql(\"DROP TABLE TABLE1\", \"tables\", \"TABLE1 droped\", \"TABLE1 warning\", verbose)        \n",
    "        self.connection.commit()\n",
    "        dtime = time.time() - start\n",
    "        print(f\"[tables] Tables dropped: elapsed time {dtime}s\")\n",
    "    \n",
    "    def insert_data(self):\n",
    "        print(\"------------------\")\n",
    "        print(\"[data] INSERT\")\n",
    "        print(\"[data] List of tables\")\n",
    "        print(\"         [0] ALL TABLES\")\n",
    "        print(\"         [1] TABLE1\")\n",
    "        print(\"         [2] TABLE2\")\n",
    "        print(\"         [3] TABLE3\")\n",
    "        time.sleep(0.01)\n",
    "        table = self._input(\"1. Enter the number of the table              [default:   0]\",1)\n",
    "        nrows = self._input(\"2. Number of new rows   [valid range 5 - 1000, default:  10]\",1)\n",
    "        delay = self._input(\"3. Cycle delay-ms       [valid range 0 - 1000, default:   0]\",1)\n",
    "        blckr = self._input(\"4. List of blocks to insert (example: 2,3,5)  [default: 1,2]\",1)\n",
    "        \n",
    "        table = table.replace(\" \",\"\")\n",
    "        nrows = nrows.replace(\" \",\"\")\n",
    "        delay = delay.replace(\" \",\"\")\n",
    "        blckr = blckr.replace(\" \",\"\")\n",
    "        \n",
    "        table = [1,2,3] if table == \"\" or table == \"0\" else [table]\n",
    "        nrows = 10 if nrows == \"\" else nrows\n",
    "        delay = 0 if delay == \"\" else delay\n",
    "        blckr = \"1,2\" if blckr == \"\" else blckr\n",
    "            \n",
    "        try: \n",
    "            table = list(map(lambda x: int(x), table))\n",
    "            nrows = int(nrows)\n",
    "            delay = int(delay)\n",
    "            \n",
    "            for i in table:\n",
    "                assert 0 <= i <= 3\n",
    "        except:\n",
    "            print(\"[data] Invalid character. Please, check inputs '1', '2', '3' !\")\n",
    "            return \n",
    "\n",
    "        try:\n",
    "            blckrs = blckr.split(\",\")\n",
    "            assert len(blckrs) > 0\n",
    "            blckrs = list(map(lambda x: int(x),blckrs))\n",
    "        except:\n",
    "            print(\"[data] Invalid range. Please, check input '4'!\")\n",
    "            print(\"[data] Remember that the format for input '4' is 'numA,numB'. Example: 2,5'\")\n",
    "            return\n",
    "            \n",
    "        try:\n",
    "            assert 5 <= nrows <= 1000\n",
    "            assert 0 <= delay <= 1000\n",
    "            delay = delay/1000\n",
    "        except:\n",
    "            print(\"[data] Invalid range !\")\n",
    "            return\n",
    "\n",
    "        datos_t1 = []\n",
    "        datos_t2 = []\n",
    "        datos_t3 = []\n",
    "        pks = []\n",
    "        print(\"[data] Inserting data ...\")  \n",
    "        time.sleep(0.01)  \n",
    "        start = time.time()\n",
    "        current_table=0\n",
    "        try:\n",
    "            print(\"table:\",table)\n",
    "            if 1 in table:\n",
    "                print(\"[data] TABLE1 ...\")  \n",
    "                current_table=1\n",
    "                insert_t1 = list(self.cursor.execute(\"\"\"SELECT MAX(\"t1_pk\") FROM TABLE1\"\"\"))[0][0]\n",
    "                insert_t1 = 0 if not insert_t1 else insert_t1 + 1\n",
    "                for i in tqdm(range(nrows)):\n",
    "                    d = (insert_t1 + i,\n",
    "                         blckrs[random.randint(0,len(blckrs)-1)],\n",
    "                         random.randint(0,1000),\n",
    "                         str(hex(random.randint(0,1000))[2:]),\n",
    "                         str(0)\n",
    "                    )\n",
    "                    self.cursor.execute(f\"\"\"INSERT INTO TABLE1 VALUES {d}\"\"\")\n",
    "                    self.connection.commit()\n",
    "                    pks.append(str(insert_t1 + i))\n",
    "                    time.sleep(delay)\n",
    "\n",
    "            if 2 in table:\n",
    "                print(\"[data] TABLE2 ...\") \n",
    "                current_table=2\n",
    "                stored_pks = list(self.cursor.execute(\"\"\"SELECT \"t1_pk\" FROM TABLE1\"\"\"))                \n",
    "                stored_pks = list(map(lambda x: x[0], stored_pks))\n",
    "                pks = list(set(pks + stored_pks))\n",
    "                assert len(pks) > 0, \"No primary keys found in TABLE1\"\n",
    "                \n",
    "                insert_t2 = list(self.cursor.execute(\"\"\"SELECT MAX(\"t2_pk\") FROM TABLE2\"\"\"))[0][0]\n",
    "                insert_t2 = 0 if not insert_t2 else insert_t2 + 1\n",
    "                for i in tqdm(range(nrows)):\n",
    "                    d = (insert_t2 + i,\n",
    "                         blckrs[random.randint(0,len(blckrs)-1)],\n",
    "                         random.randint(0,1000),\n",
    "                         str(hex(random.randint(0,1000))[2:]),\n",
    "                         str(0),\n",
    "                         pks[random.randint(0,len(pks)-1)]\n",
    "                    )\n",
    "                    self.cursor.execute(f\"\"\"INSERT INTO TABLE2 VALUES {d}\"\"\")\n",
    "                    self.connection.commit()\n",
    "                    time.sleep(delay)\n",
    " \n",
    "            if 3 in table:\n",
    "                print(\"[data] TABLE3 ...\") \n",
    "                current_table=3\n",
    "                for i in tqdm(range(nrows)):\n",
    "                    d = (blckrs[random.randint(0,len(blckrs)-1)],\n",
    "                         random.randint(0,1000),\n",
    "                         str(hex(random.randint(0,1000))[2:]),\n",
    "                         str(0)\n",
    "                    )\n",
    "                    self.cursor.execute(f\"\"\"INSERT INTO TABLE3 VALUES {d}\"\"\")\n",
    "                    self.connection.commit()\n",
    "                    time.sleep(delay)\n",
    "            \n",
    "        except Exception as e:\n",
    "            print(f\"[data] Fatal error while insertign data in table {current_table}: \\n{e}\") \n",
    "            return\n",
    "        \n",
    "        dtime = time.time() - start\n",
    "        print(f\"[data] Inserts completed: elapsed time {dtime}s\")\n",
    "        \n",
    "    def update_data(self):\n",
    "        print(\"------------------\")\n",
    "        print(\"[data] UPDATE\")\n",
    "        print(\"[data] List of tables\")\n",
    "        print(\"         [1] TABLE1\")\n",
    "        print(\"         [2] TABLE2\")\n",
    "        print(\"         [3] TABLE3\")\n",
    "        time.sleep(0.01)\n",
    "        table = self._input(\"1. Enter the number of the table                             [default: all]\",1)\n",
    "        blckr = self._input(\"2. List of blocks to update (example: 2,3,5 or -1 to update all) [required]\",1)\n",
    "        cdctx = self._input(\"3. Enter some text to identify changes in the DB        [max 20 characters]\",1)\n",
    "        if len(cdctx)>20:\n",
    "            print(\"  The text is too long, only the first 20 character will be used!\")\n",
    "        \n",
    "        table = table.replace(\" \",\"\")\n",
    "        blckr = blckr.replace(\" \",\"\")\n",
    "        cdctx = cdctx[:20]\n",
    "        \n",
    "        table = [1,2,3] if table == \"\" or table == \"0\" else [table]\n",
    "        try: \n",
    "            table = list(map(lambda x: int(x), table))\n",
    "        except:\n",
    "            print(\"[data] Invalid character. Please, check input '1' !\")\n",
    "            return \n",
    "        try:\n",
    "            blckrs = blckr.split(\",\")\n",
    "            assert len(blckrs) > 0\n",
    "            blckrs = list(map(lambda x: str(int(x)),blckrs))\n",
    "            blckrs = \",\".join(blckrs)\n",
    "            print(f\":{blckrs}\")\n",
    "        except:\n",
    "            print(\"[data] Invalid range. Please, check input '2'!\")\n",
    "            print(\"[data] Remember that the format for input '2'. Example: 2,5'\")\n",
    "            return\n",
    "\n",
    "        print(\"[data] Updating data ...\") \n",
    "        time.sleep(0.01)\n",
    "        start = time.time()\n",
    "        try:\n",
    "            for t in table:\n",
    "                if len(blckrs)==1 and blckrs[0]==-1:\n",
    "                    self.cursor.execute(f\"\"\"UPDATE TABLE{t} SET \"cdc\"='{cdctx}'\"\"\")\n",
    "                else:\n",
    "                    self.cursor.execute(f\"\"\"UPDATE TABLE{t} SET \"cdc\"='{cdctx}' WHERE \"block\" IN ({blckrs})\"\"\")\n",
    "                self.connection.commit()\n",
    "        except Exception as e:\n",
    "            print(f\"[data] Fatal error while updating data: \\n{e}\") \n",
    "            return\n",
    "        dtime = time.time() - start\n",
    "        print(f\"[data] Update completed: elapsed time {dtime}s\")\n",
    "        \n",
    "    def delete_data(self):\n",
    "        print(\"------------------\")\n",
    "        print(\"[data] DELETE\")\n",
    "        print(\"[data] List of tables\")\n",
    "        print(\"         [1] TABLE1\")\n",
    "        print(\"         [2] TABLE2\")\n",
    "        print(\"         [3] TABLE3\")\n",
    "        time.sleep(0.01)\n",
    "        table = self._input(\"1. Enter the number of the table                               [default: 1]\",1)\n",
    "        blckr = self._input(\"2. List of blocks to delete (example: 2,3,5 or -1 to delete all) [required]\",1)\n",
    "        \n",
    "        table = table.replace(\" \",\"\")\n",
    "        blckr = blckr.replace(\" \",\"\")\n",
    "        \n",
    "        table = [1,2,3] if table == \"\" or table == \"0\" else [table]\n",
    "        try: \n",
    "            table = list(map(lambda x: int(x), table))\n",
    "        except:\n",
    "            print(\"[data] Invalid character. Please, check input '1' !\")\n",
    "            return \n",
    "        try:\n",
    "            blckrs = blckr.split(\",\")\n",
    "            assert len(blckrs) > 0\n",
    "            blckrs = list(map(lambda x: str(int(x)),blckrs))\n",
    "            blckrs = \",\".join(blckrs)\n",
    "            print(f\":{blckrs}\")\n",
    "        except:\n",
    "            print(\"[data] Invalid range. Please, check input '2'!\")\n",
    "            print(\"[data] Remember that the format for input '2'. Example: 2,5'\")\n",
    "            return\n",
    "\n",
    "        print(\"[data] Deleting data ...\") \n",
    "        time.sleep(0.01)\n",
    "        start = time.time()\n",
    "        try:\n",
    "            for t in table:\n",
    "                if len(blckrs)==1 and blckrs[0]==-1:\n",
    "                    self.cursor.execute(f\"\"\"DELETE TABLE{t} CNT\"\"\")\n",
    "                else:\n",
    "                    self.cursor.execute(f\"\"\"DELETE TABLE{t} CNT WHERE \"block\" IN ({blckrs})\"\"\")\n",
    "                self.connection.commit()\n",
    "        except Exception as e:\n",
    "            print(f\"[data] Fatal error while deleting data: \\n{e}\")\n",
    "            return\n",
    "        dtime = time.time() - start\n",
    "        print(f\"[data] Delete completed: elapsed time {dtime}s\")\n",
    "    \n",
    "    def list_blocks(self):\n",
    "        print(\"------------------\")\n",
    "        print(\"[data] DELETE\")\n",
    "        print(\"[data] List of blocks\")\n",
    "    \n",
    "    def dbinfo(self):\n",
    "        pass\n",
    "    \n",
    "    def _input(self, msn, tabs=0, password=False):\n",
    "        t = ''.join([\"  \"]*tabs)\n",
    "        if password:\n",
    "            return getpass(f\"{t}{msn}:\") \n",
    "        return input(f\"{t}{msn}: \").strip()\n",
    "    \n",
    "    def sql(self, sql, command, msn, msnerr, verbose=False):\n",
    "        try:\n",
    "            self.cursor.execute(sql)\n",
    "            print(f\"[{command}] {msn}\")\n",
    "        except Exception as e:\n",
    "            if verbose:\n",
    "                print(f\"[{command}] {msnerr}: \\n{e}\")"
   ]
  },
  {
   "cell_type": "code",
   "execution_count": 2,
   "metadata": {},
   "outputs": [
    {
     "name": "stdout",
     "output_type": "stream",
     "text": [
      "[connection] Reading ORACLE connection parameters ...\n",
      "[connection] Connected: elapsed time 0.047097206115722656s\n"
     ]
    }
   ],
   "source": [
    "con = {\n",
    "    \"host\": \"oracledb-source.czpldjgtmbmx.us-west-2.rds.amazonaws.com\",\n",
    "    \"port\": \"1521\",\n",
    "    \"sid\": \"DBSOURCE\",\n",
    "    \"user\": \"sourceadmin\",\n",
    "    \"pass\": \"sourcepassword\"\n",
    "}\n",
    "\n",
    "dgen = DataGen()\n",
    "dgen.connect(con)"
   ]
  },
  {
   "cell_type": "code",
   "execution_count": 11,
   "metadata": {
    "scrolled": false
   },
   "outputs": [
    {
     "name": "stdout",
     "output_type": "stream",
     "text": [
      "[tables] Creating tables ...\n",
      "[tables] TABLE1 created\n",
      "[tables] TABLE2 created\n",
      "[tables] TABLE3 created\n",
      "[tables] Tables created: elapsed time 0.028804540634155273s\n"
     ]
    }
   ],
   "source": [
    "dgen.create_tables()"
   ]
  },
  {
   "cell_type": "code",
   "execution_count": 10,
   "metadata": {},
   "outputs": [
    {
     "name": "stdout",
     "output_type": "stream",
     "text": [
      "[tables] Dropping tables ...\n",
      "[tables] TABLE3 droped\n",
      "[tables] TABLE2 droped\n",
      "[tables] TABLE1 droped\n",
      "[tables] Tables dropped: elapsed time 0.0441431999206543s\n"
     ]
    }
   ],
   "source": [
    "dgen.drop_tables(True)"
   ]
  },
  {
   "cell_type": "code",
   "execution_count": 12,
   "metadata": {
    "scrolled": true
   },
   "outputs": [
    {
     "name": "stdout",
     "output_type": "stream",
     "text": [
      "------------------\n",
      "[data] INSERT\n",
      "[data] List of tables\n",
      "         [0] ALL TABLES\n",
      "         [1] TABLE1\n",
      "         [2] TABLE2\n",
      "         [3] TABLE3\n",
      "  1. Enter the number of the table              [default:   0]: \n",
      "  2. Number of new rows   [valid range 5 - 1000, default:  10]: 100\n",
      "  3. Cycle delay-ms       [valid range 0 - 1000, default:   0]: \n",
      "  4. List of blocks to insert (example: 2,3,5)  [default: 1,2]: 1,2,3,4,5\n"
     ]
    },
    {
     "name": "stderr",
     "output_type": "stream",
     "text": [
      " 51%|█████     | 51/100 [00:00<00:00, 501.10it/s]"
     ]
    },
    {
     "name": "stdout",
     "output_type": "stream",
     "text": [
      "[data] Inserting data ...\n",
      "table: [1, 2, 3]\n",
      "[data] TABLE1 ...\n"
     ]
    },
    {
     "name": "stderr",
     "output_type": "stream",
     "text": [
      "100%|██████████| 100/100 [00:00<00:00, 493.16it/s]\n",
      "100%|██████████| 100/100 [00:00<00:00, 521.21it/s]"
     ]
    },
    {
     "name": "stdout",
     "output_type": "stream",
     "text": [
      "[data] TABLE2 ...\n"
     ]
    },
    {
     "name": "stderr",
     "output_type": "stream",
     "text": [
      "\n",
      "100%|██████████| 100/100 [00:00<00:00, 527.91it/s]"
     ]
    },
    {
     "name": "stdout",
     "output_type": "stream",
     "text": [
      "[data] TABLE3 ...\n",
      "[data] Inserts completed: elapsed time 0.6106641292572021s\n"
     ]
    },
    {
     "name": "stderr",
     "output_type": "stream",
     "text": [
      "\n"
     ]
    }
   ],
   "source": [
    "dgen.insert_data()"
   ]
  },
  {
   "cell_type": "code",
   "execution_count": 3,
   "metadata": {},
   "outputs": [
    {
     "name": "stdout",
     "output_type": "stream",
     "text": [
      "------------------\n",
      "[data] UPDATE\n",
      "[data] List of tables\n",
      "         [1] TABLE1\n",
      "         [2] TABLE2\n",
      "         [3] TABLE3\n",
      "  1. Enter the number of the table                             [default: all]: 2\n",
      "  2. List of blocks to update (example: 2,3,5 or -1 to update all) [required]: 1\n",
      "  3. Enter some text to identify changes in the DB        [max 20 characters]: asdfsdfsdf\n",
      ":1\n",
      "[data] Updating data ...\n",
      "[data] Update completed: elapsed time 0.006013154983520508s\n"
     ]
    }
   ],
   "source": [
    "dgen.update_data()"
   ]
  },
  {
   "cell_type": "code",
   "execution_count": 4,
   "metadata": {},
   "outputs": [
    {
     "name": "stdout",
     "output_type": "stream",
     "text": [
      "------------------\n",
      "[data] DELETE\n",
      "[data] List of tables\n",
      "         [1] TABLE1\n",
      "         [2] TABLE2\n",
      "         [3] TABLE3\n",
      "  1. Enter the number of the table                               [default: 1]: 1\n",
      "  2. List of blocks to delete (example: 2,3,5 or -1 to delete all) [required]: 1\n",
      ":1\n",
      "[data] Deleting data ...\n",
      "[data] Delete completed: elapsed time 0.007298946380615234s\n"
     ]
    }
   ],
   "source": [
    "dgen.delete_data()"
   ]
  },
  {
   "cell_type": "code",
   "execution_count": null,
   "metadata": {},
   "outputs": [],
   "source": []
  },
  {
   "cell_type": "code",
   "execution_count": null,
   "metadata": {},
   "outputs": [],
   "source": []
  },
  {
   "cell_type": "code",
   "execution_count": 18,
   "metadata": {},
   "outputs": [
    {
     "data": {
      "text/plain": [
       "False"
      ]
     },
     "execution_count": 18,
     "metadata": {},
     "output_type": "execute_result"
    }
   ],
   "source": [
    "import configparser \n",
    "\n",
    "config = configparser.ConfigParser()\n",
    "config.read('confs.conf')\n",
    "config.has_section(\"DEFAULT\")"
   ]
  },
  {
   "cell_type": "code",
   "execution_count": 11,
   "metadata": {},
   "outputs": [
    {
     "ename": "KeyError",
     "evalue": "'ServerAliveInterval'",
     "output_type": "error",
     "traceback": [
      "\u001b[0;31m---------------------------------------------------------------------------\u001b[0m",
      "\u001b[0;31mKeyError\u001b[0m                                  Traceback (most recent call last)",
      "\u001b[0;32m<ipython-input-11-fd7e78cb7702>\u001b[0m in \u001b[0;36m<module>\u001b[0;34m\u001b[0m\n\u001b[1;32m      3\u001b[0m \u001b[0mconfig\u001b[0m \u001b[0;34m=\u001b[0m \u001b[0mconfigparser\u001b[0m\u001b[0;34m.\u001b[0m\u001b[0mConfigParser\u001b[0m\u001b[0;34m(\u001b[0m\u001b[0;34m)\u001b[0m\u001b[0;34m\u001b[0m\u001b[0;34m\u001b[0m\u001b[0m\n\u001b[1;32m      4\u001b[0m \u001b[0mconfig\u001b[0m\u001b[0;34m.\u001b[0m\u001b[0mread\u001b[0m\u001b[0;34m(\u001b[0m\u001b[0;34m'confs.conf'\u001b[0m\u001b[0;34m)\u001b[0m\u001b[0;34m\u001b[0m\u001b[0;34m\u001b[0m\u001b[0m\n\u001b[0;32m----> 5\u001b[0;31m \u001b[0mconfig\u001b[0m\u001b[0;34m[\u001b[0m\u001b[0;34m'DEFAULT'\u001b[0m\u001b[0;34m]\u001b[0m\u001b[0;34m[\u001b[0m\u001b[0;34m'ServerAliveInterval'\u001b[0m\u001b[0;34m]\u001b[0m\u001b[0;34m\u001b[0m\u001b[0;34m\u001b[0m\u001b[0m\n\u001b[0m",
      "\u001b[0;32m~/opt/anaconda3/lib/python3.8/configparser.py\u001b[0m in \u001b[0;36m__getitem__\u001b[0;34m(self, key)\u001b[0m\n\u001b[1;32m   1252\u001b[0m     \u001b[0;32mdef\u001b[0m \u001b[0m__getitem__\u001b[0m\u001b[0;34m(\u001b[0m\u001b[0mself\u001b[0m\u001b[0;34m,\u001b[0m \u001b[0mkey\u001b[0m\u001b[0;34m)\u001b[0m\u001b[0;34m:\u001b[0m\u001b[0;34m\u001b[0m\u001b[0;34m\u001b[0m\u001b[0m\n\u001b[1;32m   1253\u001b[0m         \u001b[0;32mif\u001b[0m \u001b[0;32mnot\u001b[0m \u001b[0mself\u001b[0m\u001b[0;34m.\u001b[0m\u001b[0m_parser\u001b[0m\u001b[0;34m.\u001b[0m\u001b[0mhas_option\u001b[0m\u001b[0;34m(\u001b[0m\u001b[0mself\u001b[0m\u001b[0;34m.\u001b[0m\u001b[0m_name\u001b[0m\u001b[0;34m,\u001b[0m \u001b[0mkey\u001b[0m\u001b[0;34m)\u001b[0m\u001b[0;34m:\u001b[0m\u001b[0;34m\u001b[0m\u001b[0;34m\u001b[0m\u001b[0m\n\u001b[0;32m-> 1254\u001b[0;31m             \u001b[0;32mraise\u001b[0m \u001b[0mKeyError\u001b[0m\u001b[0;34m(\u001b[0m\u001b[0mkey\u001b[0m\u001b[0;34m)\u001b[0m\u001b[0;34m\u001b[0m\u001b[0;34m\u001b[0m\u001b[0m\n\u001b[0m\u001b[1;32m   1255\u001b[0m         \u001b[0;32mreturn\u001b[0m \u001b[0mself\u001b[0m\u001b[0;34m.\u001b[0m\u001b[0m_parser\u001b[0m\u001b[0;34m.\u001b[0m\u001b[0mget\u001b[0m\u001b[0;34m(\u001b[0m\u001b[0mself\u001b[0m\u001b[0;34m.\u001b[0m\u001b[0m_name\u001b[0m\u001b[0;34m,\u001b[0m \u001b[0mkey\u001b[0m\u001b[0;34m)\u001b[0m\u001b[0;34m\u001b[0m\u001b[0;34m\u001b[0m\u001b[0m\n\u001b[1;32m   1256\u001b[0m \u001b[0;34m\u001b[0m\u001b[0m\n",
      "\u001b[0;31mKeyError\u001b[0m: 'ServerAliveInterval'"
     ]
    }
   ],
   "source": [
    "config['DEFAULT']['ServerAliveInterval']"
   ]
  },
  {
   "cell_type": "code",
   "execution_count": 5,
   "metadata": {},
   "outputs": [
    {
     "ename": "ValueError",
     "evalue": "I/O operation on closed file.",
     "output_type": "error",
     "traceback": [
      "\u001b[0;31m---------------------------------------------------------------------------\u001b[0m",
      "\u001b[0;31mValueError\u001b[0m                                Traceback (most recent call last)",
      "\u001b[0;32m<ipython-input-5-8bbdcd74ee2f>\u001b[0m in \u001b[0;36m<module>\u001b[0;34m\u001b[0m\n\u001b[0;32m----> 1\u001b[0;31m \u001b[0mss\u001b[0m\u001b[0;34m.\u001b[0m\u001b[0mread\u001b[0m\u001b[0;34m(\u001b[0m\u001b[0;34m)\u001b[0m\u001b[0;34m\u001b[0m\u001b[0;34m\u001b[0m\u001b[0m\n\u001b[0m",
      "\u001b[0;31mValueError\u001b[0m: I/O operation on closed file."
     ]
    }
   ],
   "source": [
    "ss."
   ]
  },
  {
   "cell_type": "code",
   "execution_count": null,
   "metadata": {},
   "outputs": [],
   "source": []
  }
 ],
 "metadata": {
  "kernelspec": {
   "display_name": "Python 3",
   "language": "python",
   "name": "python3"
  },
  "language_info": {
   "codemirror_mode": {
    "name": "ipython",
    "version": 3
   },
   "file_extension": ".py",
   "mimetype": "text/x-python",
   "name": "python",
   "nbconvert_exporter": "python",
   "pygments_lexer": "ipython3",
   "version": "3.8.5"
  }
 },
 "nbformat": 4,
 "nbformat_minor": 5
}
